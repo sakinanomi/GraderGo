{
 "cells": [
  {
   "cell_type": "markdown",
   "id": "ef1bc130",
   "metadata": {},
   "source": [
    "#### importing the packages"
   ]
  },
  {
   "cell_type": "code",
   "execution_count": 2,
   "id": "e8356844",
   "metadata": {},
   "outputs": [],
   "source": [
    "import pandas as pd\n",
    "import matplotlib.pyplot as plt\n",
    "%matplotlib inline"
   ]
  },
  {
   "cell_type": "code",
   "execution_count": 4,
   "id": "b2a501e6",
   "metadata": {},
   "outputs": [],
   "source": [
    "essays=pd.read_excel('training_set_rel3.xlsx',usecols=['essay_set','essay','rater1_domain1','rater2_domain1','domain1_score'])"
   ]
  },
  {
   "cell_type": "code",
   "execution_count": 14,
   "id": "14cfc036",
   "metadata": {},
   "outputs": [],
   "source": [
    "## we take only the relevent columns"
   ]
  },
  {
   "cell_type": "code",
   "execution_count": 5,
   "id": "8b0c5988",
   "metadata": {},
   "outputs": [
    {
     "data": {
      "text/html": [
       "<div>\n",
       "<style scoped>\n",
       "    .dataframe tbody tr th:only-of-type {\n",
       "        vertical-align: middle;\n",
       "    }\n",
       "\n",
       "    .dataframe tbody tr th {\n",
       "        vertical-align: top;\n",
       "    }\n",
       "\n",
       "    .dataframe thead th {\n",
       "        text-align: right;\n",
       "    }\n",
       "</style>\n",
       "<table border=\"1\" class=\"dataframe\">\n",
       "  <thead>\n",
       "    <tr style=\"text-align: right;\">\n",
       "      <th></th>\n",
       "      <th>essay_set</th>\n",
       "      <th>essay</th>\n",
       "      <th>rater1_domain1</th>\n",
       "      <th>rater2_domain1</th>\n",
       "      <th>domain1_score</th>\n",
       "    </tr>\n",
       "  </thead>\n",
       "  <tbody>\n",
       "    <tr>\n",
       "      <th>0</th>\n",
       "      <td>1</td>\n",
       "      <td>Dear local newspaper, I think effects computer...</td>\n",
       "      <td>4.0</td>\n",
       "      <td>4.0</td>\n",
       "      <td>8.0</td>\n",
       "    </tr>\n",
       "    <tr>\n",
       "      <th>1</th>\n",
       "      <td>1</td>\n",
       "      <td>Dear @CAPS1 @CAPS2, I believe that using compu...</td>\n",
       "      <td>5.0</td>\n",
       "      <td>4.0</td>\n",
       "      <td>9.0</td>\n",
       "    </tr>\n",
       "    <tr>\n",
       "      <th>2</th>\n",
       "      <td>1</td>\n",
       "      <td>Dear, @CAPS1 @CAPS2 @CAPS3 More and more peopl...</td>\n",
       "      <td>4.0</td>\n",
       "      <td>3.0</td>\n",
       "      <td>7.0</td>\n",
       "    </tr>\n",
       "    <tr>\n",
       "      <th>3</th>\n",
       "      <td>1</td>\n",
       "      <td>Dear Local Newspaper, @CAPS1 I have found that...</td>\n",
       "      <td>5.0</td>\n",
       "      <td>5.0</td>\n",
       "      <td>10.0</td>\n",
       "    </tr>\n",
       "    <tr>\n",
       "      <th>4</th>\n",
       "      <td>1</td>\n",
       "      <td>Dear @LOCATION1, I know having computers has a...</td>\n",
       "      <td>4.0</td>\n",
       "      <td>4.0</td>\n",
       "      <td>8.0</td>\n",
       "    </tr>\n",
       "  </tbody>\n",
       "</table>\n",
       "</div>"
      ],
      "text/plain": [
       "   essay_set                                              essay  \\\n",
       "0          1  Dear local newspaper, I think effects computer...   \n",
       "1          1  Dear @CAPS1 @CAPS2, I believe that using compu...   \n",
       "2          1  Dear, @CAPS1 @CAPS2 @CAPS3 More and more peopl...   \n",
       "3          1  Dear Local Newspaper, @CAPS1 I have found that...   \n",
       "4          1  Dear @LOCATION1, I know having computers has a...   \n",
       "\n",
       "   rater1_domain1  rater2_domain1  domain1_score  \n",
       "0             4.0             4.0            8.0  \n",
       "1             5.0             4.0            9.0  \n",
       "2             4.0             3.0            7.0  \n",
       "3             5.0             5.0           10.0  \n",
       "4             4.0             4.0            8.0  "
      ]
     },
     "execution_count": 5,
     "metadata": {},
     "output_type": "execute_result"
    }
   ],
   "source": [
    "essays.head()"
   ]
  },
  {
   "cell_type": "code",
   "execution_count": 6,
   "id": "c4e785c4",
   "metadata": {},
   "outputs": [
    {
     "data": {
      "text/plain": [
       "(12978, 5)"
      ]
     },
     "execution_count": 6,
     "metadata": {},
     "output_type": "execute_result"
    }
   ],
   "source": [
    "essays.shape"
   ]
  },
  {
   "cell_type": "code",
   "execution_count": 8,
   "id": "86d2831d",
   "metadata": {},
   "outputs": [
    {
     "data": {
      "text/plain": [
       "\"Dear local newspaper, I think effects computers have on people are great learning skills/affects because they give us time to chat with friends/new people, helps us learn about the globe(astronomy) and keeps us out of troble! Thing about! Dont you think so? How would you feel if your teenager is always on the phone with friends! Do you ever time to chat with your friends or buisness partner about things. Well now - there's a new way to chat the computer, theirs plenty of sites on the internet to do so: @ORGANIZATION1, @ORGANIZATION2, @CAPS1, facebook, myspace ect. Just think now while your setting up meeting with your boss on the computer, your teenager is having fun on the phone not rushing to get off cause you want to use it. How did you learn about other countrys/states outside of yours? Well I have by computer/internet, it's a new way to learn about what going on in our time! You might think your child spends a lot of time on the computer, but ask them so question about the economy, sea floor spreading or even about the @DATE1's you'll be surprise at how much he/she knows. Believe it or not the computer is much interesting then in class all day reading out of books. If your child is home on your computer or at a local library, it's better than being out with friends being fresh, or being perpressured to doing something they know isnt right. You might not know where your child is, @CAPS2 forbidde in a hospital bed because of a drive-by. Rather than your child on the computer learning, chatting or just playing games, safe and sound in your home or community place. Now I hope you have reached a point to understand and agree with me, because computers can have great effects on you or child because it gives us time to chat with friends/new people, helps us learn about the globe and believe or not keeps us out of troble. Thank you for listening.\""
      ]
     },
     "execution_count": 8,
     "metadata": {},
     "output_type": "execute_result"
    }
   ],
   "source": [
    "essays['essay'][0]"
   ]
  },
  {
   "cell_type": "code",
   "execution_count": 13,
   "id": "ece545de",
   "metadata": {},
   "outputs": [
    {
     "data": {
      "text/plain": [
       "essay_set         0\n",
       "essay             0\n",
       "rater1_domain1    1\n",
       "rater2_domain1    1\n",
       "domain1_score     1\n",
       "dtype: int64"
      ]
     },
     "execution_count": 13,
     "metadata": {},
     "output_type": "execute_result"
    }
   ],
   "source": [
    "essays.isnull().sum()"
   ]
  },
  {
   "cell_type": "code",
   "execution_count": 15,
   "id": "1f972875",
   "metadata": {},
   "outputs": [
    {
     "name": "stdout",
     "output_type": "stream",
     "text": [
      "0.02311604253351826\n"
     ]
    }
   ],
   "source": [
    "## worst case if we consider all three nulls to be present in diff rows, still the null values comprise of very little fraction\n",
    "\n",
    "print((3/len(essays))*100)"
   ]
  },
  {
   "cell_type": "code",
   "execution_count": 17,
   "id": "01a165c3",
   "metadata": {},
   "outputs": [
    {
     "name": "stdout",
     "output_type": "stream",
     "text": [
      "length before  12978\n",
      "length after  12977\n"
     ]
    }
   ],
   "source": [
    "## 0.02 percent, so it will be safe to drop na\n",
    "print(\"length before \",len(essays))\n",
    "essays.dropna(inplace=True)\n",
    "print(\"length after \",len(essays))"
   ]
  },
  {
   "cell_type": "code",
   "execution_count": 18,
   "id": "8990e59d",
   "metadata": {},
   "outputs": [
    {
     "name": "stdout",
     "output_type": "stream",
     "text": [
      "0.00770594128072744\n"
     ]
    }
   ],
   "source": [
    "### there was just a single row\n",
    "##Data lost in the process \n",
    "print((1/len(essays))*100)"
   ]
  },
  {
   "cell_type": "code",
   "execution_count": 19,
   "id": "315a6254",
   "metadata": {},
   "outputs": [
    {
     "name": "stdout",
     "output_type": "stream",
     "text": [
      "length before  12977\n",
      "length after  12976\n"
     ]
    }
   ],
   "source": [
    "### Duplicates\n",
    "print(\"length before \",len(essays))\n",
    "essays.drop_duplicates(inplace=True)\n",
    "print(\"length after \",len(essays))\n"
   ]
  },
  {
   "cell_type": "code",
   "execution_count": 20,
   "id": "4172fe43",
   "metadata": {},
   "outputs": [],
   "source": [
    "### there was just one duplicate value"
   ]
  },
  {
   "cell_type": "markdown",
   "id": "e0ff401d",
   "metadata": {},
   "source": [
    "### Now we try to clean the essay column(The meat of our dataset)"
   ]
  },
  {
   "cell_type": "code",
   "execution_count": null,
   "id": "0b727f09",
   "metadata": {},
   "outputs": [],
   "source": [
    "##"
   ]
  }
 ],
 "metadata": {
  "kernelspec": {
   "display_name": "Python 3 (ipykernel)",
   "language": "python",
   "name": "python3"
  },
  "language_info": {
   "codemirror_mode": {
    "name": "ipython",
    "version": 3
   },
   "file_extension": ".py",
   "mimetype": "text/x-python",
   "name": "python",
   "nbconvert_exporter": "python",
   "pygments_lexer": "ipython3",
   "version": "3.9.2"
  }
 },
 "nbformat": 4,
 "nbformat_minor": 5
}
