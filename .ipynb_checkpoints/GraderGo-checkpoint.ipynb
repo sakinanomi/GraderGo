{
 "cells": [
  {
   "cell_type": "markdown",
   "id": "ef1bc130",
   "metadata": {},
   "source": [
    "## Importing the packages"
   ]
  },
  {
   "cell_type": "code",
   "execution_count": 1,
   "id": "e8356844",
   "metadata": {},
   "outputs": [],
   "source": [
    "import pandas as pd\n",
    "import matplotlib.pyplot as plt\n",
    "%matplotlib inline\n",
    "from copy import deepcopy\n",
    "import re"
   ]
  },
  {
   "cell_type": "code",
   "execution_count": 2,
   "id": "a73b2e19",
   "metadata": {},
   "outputs": [],
   "source": [
    "import warnings\n",
    "warnings.simplefilter('ignore')"
   ]
  },
  {
   "cell_type": "markdown",
   "id": "31f87d8f",
   "metadata": {},
   "source": [
    "## Loading the dataset "
   ]
  },
  {
   "cell_type": "code",
   "execution_count": 3,
   "id": "b2a501e6",
   "metadata": {},
   "outputs": [],
   "source": [
    "essays=pd.read_excel('training_set_rel3.xlsx',usecols=['essay_set','essay','rater1_domain1','rater2_domain1','domain1_score'])"
   ]
  },
  {
   "cell_type": "markdown",
   "id": "03bfb37c",
   "metadata": {},
   "source": [
    "we take only the relevant columns"
   ]
  },
  {
   "cell_type": "code",
   "execution_count": 4,
   "id": "8b0c5988",
   "metadata": {},
   "outputs": [
    {
     "data": {
      "text/html": [
       "<div>\n",
       "<style scoped>\n",
       "    .dataframe tbody tr th:only-of-type {\n",
       "        vertical-align: middle;\n",
       "    }\n",
       "\n",
       "    .dataframe tbody tr th {\n",
       "        vertical-align: top;\n",
       "    }\n",
       "\n",
       "    .dataframe thead th {\n",
       "        text-align: right;\n",
       "    }\n",
       "</style>\n",
       "<table border=\"1\" class=\"dataframe\">\n",
       "  <thead>\n",
       "    <tr style=\"text-align: right;\">\n",
       "      <th></th>\n",
       "      <th>essay_set</th>\n",
       "      <th>essay</th>\n",
       "      <th>rater1_domain1</th>\n",
       "      <th>rater2_domain1</th>\n",
       "      <th>domain1_score</th>\n",
       "    </tr>\n",
       "  </thead>\n",
       "  <tbody>\n",
       "    <tr>\n",
       "      <th>0</th>\n",
       "      <td>1</td>\n",
       "      <td>Dear local newspaper, I think effects computer...</td>\n",
       "      <td>4.0</td>\n",
       "      <td>4.0</td>\n",
       "      <td>8.0</td>\n",
       "    </tr>\n",
       "    <tr>\n",
       "      <th>1</th>\n",
       "      <td>1</td>\n",
       "      <td>Dear @CAPS1 @CAPS2, I believe that using compu...</td>\n",
       "      <td>5.0</td>\n",
       "      <td>4.0</td>\n",
       "      <td>9.0</td>\n",
       "    </tr>\n",
       "    <tr>\n",
       "      <th>2</th>\n",
       "      <td>1</td>\n",
       "      <td>Dear, @CAPS1 @CAPS2 @CAPS3 More and more peopl...</td>\n",
       "      <td>4.0</td>\n",
       "      <td>3.0</td>\n",
       "      <td>7.0</td>\n",
       "    </tr>\n",
       "    <tr>\n",
       "      <th>3</th>\n",
       "      <td>1</td>\n",
       "      <td>Dear Local Newspaper, @CAPS1 I have found that...</td>\n",
       "      <td>5.0</td>\n",
       "      <td>5.0</td>\n",
       "      <td>10.0</td>\n",
       "    </tr>\n",
       "    <tr>\n",
       "      <th>4</th>\n",
       "      <td>1</td>\n",
       "      <td>Dear @LOCATION1, I know having computers has a...</td>\n",
       "      <td>4.0</td>\n",
       "      <td>4.0</td>\n",
       "      <td>8.0</td>\n",
       "    </tr>\n",
       "  </tbody>\n",
       "</table>\n",
       "</div>"
      ],
      "text/plain": [
       "   essay_set                                              essay  \\\n",
       "0          1  Dear local newspaper, I think effects computer...   \n",
       "1          1  Dear @CAPS1 @CAPS2, I believe that using compu...   \n",
       "2          1  Dear, @CAPS1 @CAPS2 @CAPS3 More and more peopl...   \n",
       "3          1  Dear Local Newspaper, @CAPS1 I have found that...   \n",
       "4          1  Dear @LOCATION1, I know having computers has a...   \n",
       "\n",
       "   rater1_domain1  rater2_domain1  domain1_score  \n",
       "0             4.0             4.0            8.0  \n",
       "1             5.0             4.0            9.0  \n",
       "2             4.0             3.0            7.0  \n",
       "3             5.0             5.0           10.0  \n",
       "4             4.0             4.0            8.0  "
      ]
     },
     "execution_count": 4,
     "metadata": {},
     "output_type": "execute_result"
    }
   ],
   "source": [
    "essays.head()"
   ]
  },
  {
   "cell_type": "code",
   "execution_count": 5,
   "id": "c4e785c4",
   "metadata": {},
   "outputs": [
    {
     "data": {
      "text/plain": [
       "(12978, 5)"
      ]
     },
     "execution_count": 5,
     "metadata": {},
     "output_type": "execute_result"
    }
   ],
   "source": [
    "essays.shape"
   ]
  },
  {
   "cell_type": "code",
   "execution_count": 6,
   "id": "86d2831d",
   "metadata": {},
   "outputs": [
    {
     "data": {
      "text/plain": [
       "\"Dear local newspaper, I think effects computers have on people are great learning skills/affects because they give us time to chat with friends/new people, helps us learn about the globe(astronomy) and keeps us out of troble! Thing about! Dont you think so? How would you feel if your teenager is always on the phone with friends! Do you ever time to chat with your friends or buisness partner about things. Well now - there's a new way to chat the computer, theirs plenty of sites on the internet to do so: @ORGANIZATION1, @ORGANIZATION2, @CAPS1, facebook, myspace ect. Just think now while your setting up meeting with your boss on the computer, your teenager is having fun on the phone not rushing to get off cause you want to use it. How did you learn about other countrys/states outside of yours? Well I have by computer/internet, it's a new way to learn about what going on in our time! You might think your child spends a lot of time on the computer, but ask them so question about the economy, sea floor spreading or even about the @DATE1's you'll be surprise at how much he/she knows. Believe it or not the computer is much interesting then in class all day reading out of books. If your child is home on your computer or at a local library, it's better than being out with friends being fresh, or being perpressured to doing something they know isnt right. You might not know where your child is, @CAPS2 forbidde in a hospital bed because of a drive-by. Rather than your child on the computer learning, chatting or just playing games, safe and sound in your home or community place. Now I hope you have reached a point to understand and agree with me, because computers can have great effects on you or child because it gives us time to chat with friends/new people, helps us learn about the globe and believe or not keeps us out of troble. Thank you for listening.\""
      ]
     },
     "execution_count": 6,
     "metadata": {},
     "output_type": "execute_result"
    }
   ],
   "source": [
    "essays['essay'][0]"
   ]
  },
  {
   "cell_type": "code",
   "execution_count": 7,
   "id": "ece545de",
   "metadata": {},
   "outputs": [
    {
     "data": {
      "text/plain": [
       "essay_set         0\n",
       "essay             0\n",
       "rater1_domain1    1\n",
       "rater2_domain1    1\n",
       "domain1_score     1\n",
       "dtype: int64"
      ]
     },
     "execution_count": 7,
     "metadata": {},
     "output_type": "execute_result"
    }
   ],
   "source": [
    "essays.isnull().sum()"
   ]
  },
  {
   "cell_type": "code",
   "execution_count": 8,
   "id": "1f972875",
   "metadata": {},
   "outputs": [
    {
     "name": "stdout",
     "output_type": "stream",
     "text": [
      "0.02311604253351826\n"
     ]
    }
   ],
   "source": [
    "## worst case if we consider all three nulls to be present in diff rows, still the null values comprise of very little fraction\n",
    "\n",
    "print((3/len(essays))*100)"
   ]
  },
  {
   "cell_type": "code",
   "execution_count": 9,
   "id": "01a165c3",
   "metadata": {},
   "outputs": [
    {
     "name": "stdout",
     "output_type": "stream",
     "text": [
      "length before  12978\n",
      "length after  12977\n"
     ]
    }
   ],
   "source": [
    "## 0.02 percent, so it will be safe to drop na\n",
    "print(\"length before \",len(essays))\n",
    "essays.dropna(inplace=True)\n",
    "print(\"length after \",len(essays))"
   ]
  },
  {
   "cell_type": "code",
   "execution_count": 10,
   "id": "8990e59d",
   "metadata": {},
   "outputs": [
    {
     "name": "stdout",
     "output_type": "stream",
     "text": [
      "0.00770594128072744\n"
     ]
    }
   ],
   "source": [
    "### there was just a single row\n",
    "##Data lost in the process \n",
    "print((1/len(essays))*100)"
   ]
  },
  {
   "cell_type": "code",
   "execution_count": 11,
   "id": "315a6254",
   "metadata": {},
   "outputs": [
    {
     "name": "stdout",
     "output_type": "stream",
     "text": [
      "length before  12977\n",
      "length after  12976\n"
     ]
    }
   ],
   "source": [
    "### Duplicates\n",
    "print(\"length before \",len(essays))\n",
    "essays.drop_duplicates(inplace=True)\n",
    "print(\"length after \",len(essays))\n"
   ]
  },
  {
   "cell_type": "markdown",
   "id": "d4f0361d",
   "metadata": {},
   "source": [
    "there was just one duplicate value"
   ]
  },
  {
   "cell_type": "markdown",
   "id": "e0ff401d",
   "metadata": {},
   "source": [
    "### Now we try to clean the essay column(The meat of our dataset)"
   ]
  },
  {
   "cell_type": "markdown",
   "id": "9eba9758",
   "metadata": {},
   "source": [
    "Instead of making changes in the original df, make a copy of it and clean it.\n",
    "\n",
    "Deep copy keeps no reference to the original one, meaning, changes in the copy are not refelcted in the original one."
   ]
  },
  {
   "cell_type": "code",
   "execution_count": 12,
   "id": "0b727f09",
   "metadata": {},
   "outputs": [],
   "source": [
    "essays2 = deepcopy(essays)"
   ]
  },
  {
   "cell_type": "code",
   "execution_count": 13,
   "id": "daa03c37",
   "metadata": {},
   "outputs": [
    {
     "data": {
      "text/html": [
       "<div>\n",
       "<style scoped>\n",
       "    .dataframe tbody tr th:only-of-type {\n",
       "        vertical-align: middle;\n",
       "    }\n",
       "\n",
       "    .dataframe tbody tr th {\n",
       "        vertical-align: top;\n",
       "    }\n",
       "\n",
       "    .dataframe thead th {\n",
       "        text-align: right;\n",
       "    }\n",
       "</style>\n",
       "<table border=\"1\" class=\"dataframe\">\n",
       "  <thead>\n",
       "    <tr style=\"text-align: right;\">\n",
       "      <th></th>\n",
       "      <th>essay_set</th>\n",
       "      <th>essay</th>\n",
       "      <th>rater1_domain1</th>\n",
       "      <th>rater2_domain1</th>\n",
       "      <th>domain1_score</th>\n",
       "    </tr>\n",
       "  </thead>\n",
       "  <tbody>\n",
       "    <tr>\n",
       "      <th>0</th>\n",
       "      <td>1</td>\n",
       "      <td>Dear local newspaper, I think effects computer...</td>\n",
       "      <td>4.0</td>\n",
       "      <td>4.0</td>\n",
       "      <td>8.0</td>\n",
       "    </tr>\n",
       "    <tr>\n",
       "      <th>1</th>\n",
       "      <td>1</td>\n",
       "      <td>Dear @CAPS1 @CAPS2, I believe that using compu...</td>\n",
       "      <td>5.0</td>\n",
       "      <td>4.0</td>\n",
       "      <td>9.0</td>\n",
       "    </tr>\n",
       "    <tr>\n",
       "      <th>2</th>\n",
       "      <td>1</td>\n",
       "      <td>Dear, @CAPS1 @CAPS2 @CAPS3 More and more peopl...</td>\n",
       "      <td>4.0</td>\n",
       "      <td>3.0</td>\n",
       "      <td>7.0</td>\n",
       "    </tr>\n",
       "    <tr>\n",
       "      <th>3</th>\n",
       "      <td>1</td>\n",
       "      <td>Dear Local Newspaper, @CAPS1 I have found that...</td>\n",
       "      <td>5.0</td>\n",
       "      <td>5.0</td>\n",
       "      <td>10.0</td>\n",
       "    </tr>\n",
       "    <tr>\n",
       "      <th>4</th>\n",
       "      <td>1</td>\n",
       "      <td>Dear @LOCATION1, I know having computers has a...</td>\n",
       "      <td>4.0</td>\n",
       "      <td>4.0</td>\n",
       "      <td>8.0</td>\n",
       "    </tr>\n",
       "  </tbody>\n",
       "</table>\n",
       "</div>"
      ],
      "text/plain": [
       "   essay_set                                              essay  \\\n",
       "0          1  Dear local newspaper, I think effects computer...   \n",
       "1          1  Dear @CAPS1 @CAPS2, I believe that using compu...   \n",
       "2          1  Dear, @CAPS1 @CAPS2 @CAPS3 More and more peopl...   \n",
       "3          1  Dear Local Newspaper, @CAPS1 I have found that...   \n",
       "4          1  Dear @LOCATION1, I know having computers has a...   \n",
       "\n",
       "   rater1_domain1  rater2_domain1  domain1_score  \n",
       "0             4.0             4.0            8.0  \n",
       "1             5.0             4.0            9.0  \n",
       "2             4.0             3.0            7.0  \n",
       "3             5.0             5.0           10.0  \n",
       "4             4.0             4.0            8.0  "
      ]
     },
     "execution_count": 13,
     "metadata": {},
     "output_type": "execute_result"
    }
   ],
   "source": [
    "essays2.head()"
   ]
  },
  {
   "cell_type": "markdown",
   "id": "86db2367",
   "metadata": {},
   "source": [
    "1. grammatical errors\n",
    "\n",
    "2. word count\n",
    "\n",
    "3. no. of sentences\n",
    "\n",
    "4. no. of paragraphs\n",
    "\n",
    "6. length of sentences\n",
    "\n",
    "7. length of paragraphs\n",
    "\n",
    "8. special symbols\n",
    "\n",
    "9. spelling mistakes\n",
    "\n",
    "10. no. of nouns\n",
    "\n",
    "11. adjectives\n",
    "\n",
    "12. quotations\n"
   ]
  },
  {
   "cell_type": "markdown",
   "id": "63d38f5d",
   "metadata": {},
   "source": [
    "**Removing special symbols.**\n",
    "\n",
    "Tried using regex, wasn't working :("
   ]
  },
  {
   "cell_type": "code",
   "execution_count": 19,
   "id": "f7dcd16c",
   "metadata": {},
   "outputs": [],
   "source": [
    "spec_char = ['@', '!', '#', '$', '%', '&', '*', '^', '?', '~', ',', '.' ]\n",
    "# add more symbols to the list if you'd like to\n",
    "for symbol in spec_char:\n",
    "    essays2['essay'] = essays2['essay'].str.replace(symbol, '')\n",
    "    \n",
    "essays2['essay'] = essays2['essay'].str.split('  ').str.join(' ')\n",
    "\n",
    "#removing special symbols -> not working\n",
    "#essays2['essay'] = essays2['essay'].apply(lambda x:re.sub('@!#$%&^?,.+', '',x))\n",
    "#removing digits\n",
    "essays2['essay'] = essays2['essay'].apply(lambda x:re.sub('[\\d]', '', x))"
   ]
  },
  {
   "cell_type": "code",
   "execution_count": 20,
   "id": "dc9edced",
   "metadata": {},
   "outputs": [
    {
     "data": {
      "text/plain": [
       "\"dear local newspaper i think effects computers have on people are great learning skills/affects because they give us time to chat with friends/new people helps us learn about the globe(astronomy) and keeps us out of troble thing about dont you think so how would you feel if your teenager is always on the phone with friends do you ever time to chat with your friends or buisness partner about things well now - there's a new way to chat the computer theirs plenty of sites on the internet to do so: organization organization caps facebook myspace ect just think now while your setting up meeting with your boss on the computer your teenager is having fun on the phone not rushing to get off cause you want to use it how did you learn about other countrys/states outside of yours well i have by computer/internet it's a new way to learn about what going on in our time you might think your child spends a lot of time on the computer but ask them so question about the economy sea floor spreading or even about the date's you'll be surprise at how much he/she knows believe it or not the computer is much interesting then in class all day reading out of books if your child is home on your computer or at a local library it's better than being out with friends being fresh or being perpressured to doing something they know isnt right you might not know where your child is caps forbidde in a hospital bed because of a drive-by rather than your child on the computer learning chatting or just playing games safe and sound in your home or community place now i hope you have reached a point to understand and agree with me because computers can have great effects on you or child because it gives us time to chat with friends/new people helps us learn about the globe and believe or not keeps us out of troble thank you for listening\""
      ]
     },
     "execution_count": 20,
     "metadata": {},
     "output_type": "execute_result"
    }
   ],
   "source": [
    "essays2['essay'][0]"
   ]
  },
  {
   "cell_type": "markdown",
   "id": "b12ff735",
   "metadata": {},
   "source": [
    "**Converting to lowercase.**"
   ]
  },
  {
   "cell_type": "code",
   "execution_count": 21,
   "id": "cfd56ef4",
   "metadata": {},
   "outputs": [],
   "source": [
    "essays2['essay'] = essays2['essay'].str.lower()"
   ]
  },
  {
   "cell_type": "code",
   "execution_count": 22,
   "id": "0e5dcd0a",
   "metadata": {},
   "outputs": [
    {
     "data": {
      "text/plain": [
       "\"dear local newspaper i think effects computers have on people are great learning skills/affects because they give us time to chat with friends/new people helps us learn about the globe(astronomy) and keeps us out of troble thing about dont you think so how would you feel if your teenager is always on the phone with friends do you ever time to chat with your friends or buisness partner about things well now - there's a new way to chat the computer theirs plenty of sites on the internet to do so: organization organization caps facebook myspace ect just think now while your setting up meeting with your boss on the computer your teenager is having fun on the phone not rushing to get off cause you want to use it how did you learn about other countrys/states outside of yours well i have by computer/internet it's a new way to learn about what going on in our time you might think your child spends a lot of time on the computer but ask them so question about the economy sea floor spreading or even about the date's you'll be surprise at how much he/she knows believe it or not the computer is much interesting then in class all day reading out of books if your child is home on your computer or at a local library it's better than being out with friends being fresh or being perpressured to doing something they know isnt right you might not know where your child is caps forbidde in a hospital bed because of a drive-by rather than your child on the computer learning chatting or just playing games safe and sound in your home or community place now i hope you have reached a point to understand and agree with me because computers can have great effects on you or child because it gives us time to chat with friends/new people helps us learn about the globe and believe or not keeps us out of troble thank you for listening\""
      ]
     },
     "execution_count": 22,
     "metadata": {},
     "output_type": "execute_result"
    }
   ],
   "source": [
    "essays2['essay'][0]"
   ]
  },
  {
   "cell_type": "code",
   "execution_count": 23,
   "id": "43ea9055",
   "metadata": {},
   "outputs": [
    {
     "data": {
      "text/plain": [
       "\"dear local newspaper i belive that computers have a negative effect on peoples lives i belive this because who spend to much time on the computer don't get out as much as they should don't spend enough time with their family and the computer can't do everything my first reason is i belive that people need to get out more when they don't get out they don't exersise and that is very unhealthy instead of watching the games or the scores they should get out and play the game i also belive that they should enjoy nature because i feel like they are wasting the beauty of nature all around them we wouldn't want to waste our abilities and privalges would we another reason is that they do not spend enough time with family if you have family near you then you should take advantage of that and interact with one another you can have fun with your family by playing games you can also have fun by just hanging out which boost your social skills and the computer can't always do that which brings me to my next point the computer can't do everything so take advantage of what you have now some computer time is fine but it can be very dangerous by getting addictted to it the computer month have lots of information but there is nothing that you can't find in a book your computer can't love your dog so there is a reason why we should get off the computer there are pleanty of other things that you can do that you can't do on the computer including sports taking care of family and any of your hobbys remember that the computer month be great from time to time but it can not live your life for you that is why i belive that we should spend less time on the computer and more time getting out and having fun with family and that the the computer can't do everything\""
      ]
     },
     "execution_count": 23,
     "metadata": {},
     "output_type": "execute_result"
    }
   ],
   "source": [
    "essays2['essay'][16]"
   ]
  },
  {
   "cell_type": "code",
   "execution_count": null,
   "id": "cbc6c874",
   "metadata": {},
   "outputs": [],
   "source": []
  }
 ],
 "metadata": {
  "kernelspec": {
   "display_name": "Python 3",
   "language": "python",
   "name": "python3"
  },
  "language_info": {
   "codemirror_mode": {
    "name": "ipython",
    "version": 3
   },
   "file_extension": ".py",
   "mimetype": "text/x-python",
   "name": "python",
   "nbconvert_exporter": "python",
   "pygments_lexer": "ipython3",
   "version": "3.8.10"
  },
  "varInspector": {
   "cols": {
    "lenName": 16,
    "lenType": 16,
    "lenVar": 40
   },
   "kernels_config": {
    "python": {
     "delete_cmd_postfix": "",
     "delete_cmd_prefix": "del ",
     "library": "var_list.py",
     "varRefreshCmd": "print(var_dic_list())"
    },
    "r": {
     "delete_cmd_postfix": ") ",
     "delete_cmd_prefix": "rm(",
     "library": "var_list.r",
     "varRefreshCmd": "cat(var_dic_list()) "
    }
   },
   "types_to_exclude": [
    "module",
    "function",
    "builtin_function_or_method",
    "instance",
    "_Feature"
   ],
   "window_display": false
  }
 },
 "nbformat": 4,
 "nbformat_minor": 5
}
